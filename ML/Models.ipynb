{
 "cells": [
  {
   "cell_type": "code",
   "execution_count": 1,
   "id": "43f0700d",
   "metadata": {},
   "outputs": [],
   "source": [
    "# importing required libraries\n",
    "import numpy as np\n",
    "import pandas as pd\n",
    "import matplotlib.pyplot as plt\n",
    "import pickle\n",
    "from sklearn.preprocessing import StandardScaler\n",
    "from sklearn.model_selection import train_test_split\n",
    "from sklearn.metrics import accuracy_score, classification_report, confusion_matrix\n",
    "from sklearn.ensemble import RandomForestClassifier\n",
    "from sklearn.svm import SVC\n",
    "from sklearn.linear_model import LogisticRegression\n",
    "from sklearn.neighbors import KNeighborsClassifier\n",
    "from sklearn.ensemble import RandomForestClassifier\n",
    "from sklearn.naive_bayes import BernoulliNB\n",
    "from sklearn.metrics import roc_curve, roc_auc_score\n",
    "from sklearn.metrics import plot_roc_curve\n",
    "from sklearn.ensemble import BaggingClassifier"
   ]
  },
  {
   "cell_type": "code",
   "execution_count": 2,
   "id": "2e0db5b2",
   "metadata": {},
   "outputs": [],
   "source": [
    "heart = pd.read_csv(\"heart_cleveland.csv\")"
   ]
  },
  {
   "cell_type": "code",
   "execution_count": 3,
   "id": "e35deb3d",
   "metadata": {},
   "outputs": [
    {
     "name": "stdout",
     "output_type": "stream",
     "text": [
      "   age  sex  cp  trestbps  chol  fbs  restecg  thalach  exang  oldpeak  slope  \\\n",
      "0   69    1   0       160   234    1        2      131      0      0.1      1   \n",
      "1   69    0   0       140   239    0        0      151      0      1.8      0   \n",
      "2   66    0   0       150   226    0        0      114      0      2.6      2   \n",
      "3   65    1   0       138   282    1        2      174      0      1.4      1   \n",
      "4   64    1   0       110   211    0        2      144      1      1.8      1   \n",
      "\n",
      "   ca  thal  target  \n",
      "0   1     0       0  \n",
      "1   2     0       0  \n",
      "2   0     0       0  \n",
      "3   1     0       1  \n",
      "4   0     0       0  \n"
     ]
    }
   ],
   "source": [
    "heart_df = heart.copy()\n",
    "\n",
    "# Renaming some of the columns\n",
    "heart_df = heart_df.rename(columns={'condition': 'target'})\n",
    "print(heart_df.head())"
   ]
  },
  {
   "cell_type": "code",
   "execution_count": 4,
   "id": "aad4e207",
   "metadata": {},
   "outputs": [
    {
     "name": "stdout",
     "output_type": "stream",
     "text": [
      "Index(['age', 'sex', 'cp', 'trestbps', 'chol', 'fbs', 'restecg', 'thalach',\n",
      "       'exang', 'oldpeak', 'slope', 'ca', 'thal', 'target'],\n",
      "      dtype='object')\n"
     ]
    }
   ],
   "source": [
    "print(heart_df.keys())"
   ]
  },
  {
   "cell_type": "code",
   "execution_count": 5,
   "id": "3a44b92f",
   "metadata": {},
   "outputs": [],
   "source": [
    "#fixing our data in x and y. Here y contains target data and X contains rest all the features.\n",
    "xData = heart_df.drop(columns='target')\n",
    "y = heart_df.target"
   ]
  },
  {
   "cell_type": "code",
   "execution_count": 6,
   "id": "73fa2532",
   "metadata": {},
   "outputs": [],
   "source": [
    "# Normalize\n",
    "x = (xData - np.min(xData)) / (np.max(xData) - np.min(xData)).values"
   ]
  },
  {
   "cell_type": "code",
   "execution_count": 7,
   "id": "a9fc3418",
   "metadata": {
    "scrolled": true
   },
   "outputs": [
    {
     "data": {
      "text/html": [
       "<div>\n",
       "<style scoped>\n",
       "    .dataframe tbody tr th:only-of-type {\n",
       "        vertical-align: middle;\n",
       "    }\n",
       "\n",
       "    .dataframe tbody tr th {\n",
       "        vertical-align: top;\n",
       "    }\n",
       "\n",
       "    .dataframe thead th {\n",
       "        text-align: right;\n",
       "    }\n",
       "</style>\n",
       "<table border=\"1\" class=\"dataframe\">\n",
       "  <thead>\n",
       "    <tr style=\"text-align: right;\">\n",
       "      <th></th>\n",
       "      <th>age</th>\n",
       "      <th>sex</th>\n",
       "      <th>cp</th>\n",
       "      <th>trestbps</th>\n",
       "      <th>chol</th>\n",
       "      <th>fbs</th>\n",
       "      <th>restecg</th>\n",
       "      <th>thalach</th>\n",
       "      <th>exang</th>\n",
       "      <th>oldpeak</th>\n",
       "      <th>slope</th>\n",
       "      <th>ca</th>\n",
       "      <th>thal</th>\n",
       "    </tr>\n",
       "  </thead>\n",
       "  <tbody>\n",
       "    <tr>\n",
       "      <th>0</th>\n",
       "      <td>0.833333</td>\n",
       "      <td>1.0</td>\n",
       "      <td>0.0</td>\n",
       "      <td>0.622642</td>\n",
       "      <td>0.246575</td>\n",
       "      <td>1.0</td>\n",
       "      <td>1.0</td>\n",
       "      <td>0.458015</td>\n",
       "      <td>0.0</td>\n",
       "      <td>0.016129</td>\n",
       "      <td>0.5</td>\n",
       "      <td>0.333333</td>\n",
       "      <td>0.0</td>\n",
       "    </tr>\n",
       "    <tr>\n",
       "      <th>1</th>\n",
       "      <td>0.833333</td>\n",
       "      <td>0.0</td>\n",
       "      <td>0.0</td>\n",
       "      <td>0.433962</td>\n",
       "      <td>0.257991</td>\n",
       "      <td>0.0</td>\n",
       "      <td>0.0</td>\n",
       "      <td>0.610687</td>\n",
       "      <td>0.0</td>\n",
       "      <td>0.290323</td>\n",
       "      <td>0.0</td>\n",
       "      <td>0.666667</td>\n",
       "      <td>0.0</td>\n",
       "    </tr>\n",
       "    <tr>\n",
       "      <th>2</th>\n",
       "      <td>0.770833</td>\n",
       "      <td>0.0</td>\n",
       "      <td>0.0</td>\n",
       "      <td>0.528302</td>\n",
       "      <td>0.228311</td>\n",
       "      <td>0.0</td>\n",
       "      <td>0.0</td>\n",
       "      <td>0.328244</td>\n",
       "      <td>0.0</td>\n",
       "      <td>0.419355</td>\n",
       "      <td>1.0</td>\n",
       "      <td>0.000000</td>\n",
       "      <td>0.0</td>\n",
       "    </tr>\n",
       "    <tr>\n",
       "      <th>3</th>\n",
       "      <td>0.750000</td>\n",
       "      <td>1.0</td>\n",
       "      <td>0.0</td>\n",
       "      <td>0.415094</td>\n",
       "      <td>0.356164</td>\n",
       "      <td>1.0</td>\n",
       "      <td>1.0</td>\n",
       "      <td>0.786260</td>\n",
       "      <td>0.0</td>\n",
       "      <td>0.225806</td>\n",
       "      <td>0.5</td>\n",
       "      <td>0.333333</td>\n",
       "      <td>0.0</td>\n",
       "    </tr>\n",
       "    <tr>\n",
       "      <th>4</th>\n",
       "      <td>0.729167</td>\n",
       "      <td>1.0</td>\n",
       "      <td>0.0</td>\n",
       "      <td>0.150943</td>\n",
       "      <td>0.194064</td>\n",
       "      <td>0.0</td>\n",
       "      <td>1.0</td>\n",
       "      <td>0.557252</td>\n",
       "      <td>1.0</td>\n",
       "      <td>0.290323</td>\n",
       "      <td>0.5</td>\n",
       "      <td>0.000000</td>\n",
       "      <td>0.0</td>\n",
       "    </tr>\n",
       "    <tr>\n",
       "      <th>...</th>\n",
       "      <td>...</td>\n",
       "      <td>...</td>\n",
       "      <td>...</td>\n",
       "      <td>...</td>\n",
       "      <td>...</td>\n",
       "      <td>...</td>\n",
       "      <td>...</td>\n",
       "      <td>...</td>\n",
       "      <td>...</td>\n",
       "      <td>...</td>\n",
       "      <td>...</td>\n",
       "      <td>...</td>\n",
       "      <td>...</td>\n",
       "    </tr>\n",
       "    <tr>\n",
       "      <th>292</th>\n",
       "      <td>0.229167</td>\n",
       "      <td>1.0</td>\n",
       "      <td>1.0</td>\n",
       "      <td>0.547170</td>\n",
       "      <td>0.221461</td>\n",
       "      <td>0.0</td>\n",
       "      <td>0.0</td>\n",
       "      <td>0.839695</td>\n",
       "      <td>0.0</td>\n",
       "      <td>0.000000</td>\n",
       "      <td>0.0</td>\n",
       "      <td>0.000000</td>\n",
       "      <td>1.0</td>\n",
       "    </tr>\n",
       "    <tr>\n",
       "      <th>293</th>\n",
       "      <td>0.208333</td>\n",
       "      <td>1.0</td>\n",
       "      <td>1.0</td>\n",
       "      <td>0.226415</td>\n",
       "      <td>0.212329</td>\n",
       "      <td>0.0</td>\n",
       "      <td>0.0</td>\n",
       "      <td>0.526718</td>\n",
       "      <td>0.0</td>\n",
       "      <td>0.193548</td>\n",
       "      <td>0.5</td>\n",
       "      <td>0.000000</td>\n",
       "      <td>1.0</td>\n",
       "    </tr>\n",
       "    <tr>\n",
       "      <th>294</th>\n",
       "      <td>0.125000</td>\n",
       "      <td>1.0</td>\n",
       "      <td>1.0</td>\n",
       "      <td>0.245283</td>\n",
       "      <td>0.164384</td>\n",
       "      <td>0.0</td>\n",
       "      <td>0.0</td>\n",
       "      <td>0.450382</td>\n",
       "      <td>1.0</td>\n",
       "      <td>0.258065</td>\n",
       "      <td>0.5</td>\n",
       "      <td>0.000000</td>\n",
       "      <td>1.0</td>\n",
       "    </tr>\n",
       "    <tr>\n",
       "      <th>295</th>\n",
       "      <td>0.125000</td>\n",
       "      <td>0.0</td>\n",
       "      <td>1.0</td>\n",
       "      <td>0.415094</td>\n",
       "      <td>0.130137</td>\n",
       "      <td>0.0</td>\n",
       "      <td>0.0</td>\n",
       "      <td>0.847328</td>\n",
       "      <td>0.0</td>\n",
       "      <td>0.225806</td>\n",
       "      <td>0.0</td>\n",
       "      <td>0.000000</td>\n",
       "      <td>0.0</td>\n",
       "    </tr>\n",
       "    <tr>\n",
       "      <th>296</th>\n",
       "      <td>0.125000</td>\n",
       "      <td>1.0</td>\n",
       "      <td>1.0</td>\n",
       "      <td>0.301887</td>\n",
       "      <td>0.356164</td>\n",
       "      <td>0.0</td>\n",
       "      <td>1.0</td>\n",
       "      <td>0.648855</td>\n",
       "      <td>1.0</td>\n",
       "      <td>0.000000</td>\n",
       "      <td>0.0</td>\n",
       "      <td>0.000000</td>\n",
       "      <td>1.0</td>\n",
       "    </tr>\n",
       "  </tbody>\n",
       "</table>\n",
       "<p>297 rows × 13 columns</p>\n",
       "</div>"
      ],
      "text/plain": [
       "          age  sex   cp  trestbps      chol  fbs  restecg   thalach  exang  \\\n",
       "0    0.833333  1.0  0.0  0.622642  0.246575  1.0      1.0  0.458015    0.0   \n",
       "1    0.833333  0.0  0.0  0.433962  0.257991  0.0      0.0  0.610687    0.0   \n",
       "2    0.770833  0.0  0.0  0.528302  0.228311  0.0      0.0  0.328244    0.0   \n",
       "3    0.750000  1.0  0.0  0.415094  0.356164  1.0      1.0  0.786260    0.0   \n",
       "4    0.729167  1.0  0.0  0.150943  0.194064  0.0      1.0  0.557252    1.0   \n",
       "..        ...  ...  ...       ...       ...  ...      ...       ...    ...   \n",
       "292  0.229167  1.0  1.0  0.547170  0.221461  0.0      0.0  0.839695    0.0   \n",
       "293  0.208333  1.0  1.0  0.226415  0.212329  0.0      0.0  0.526718    0.0   \n",
       "294  0.125000  1.0  1.0  0.245283  0.164384  0.0      0.0  0.450382    1.0   \n",
       "295  0.125000  0.0  1.0  0.415094  0.130137  0.0      0.0  0.847328    0.0   \n",
       "296  0.125000  1.0  1.0  0.301887  0.356164  0.0      1.0  0.648855    1.0   \n",
       "\n",
       "      oldpeak  slope        ca  thal  \n",
       "0    0.016129    0.5  0.333333   0.0  \n",
       "1    0.290323    0.0  0.666667   0.0  \n",
       "2    0.419355    1.0  0.000000   0.0  \n",
       "3    0.225806    0.5  0.333333   0.0  \n",
       "4    0.290323    0.5  0.000000   0.0  \n",
       "..        ...    ...       ...   ...  \n",
       "292  0.000000    0.0  0.000000   1.0  \n",
       "293  0.193548    0.5  0.000000   1.0  \n",
       "294  0.258065    0.5  0.000000   1.0  \n",
       "295  0.225806    0.0  0.000000   0.0  \n",
       "296  0.000000    0.0  0.000000   1.0  \n",
       "\n",
       "[297 rows x 13 columns]"
      ]
     },
     "execution_count": 7,
     "metadata": {},
     "output_type": "execute_result"
    }
   ],
   "source": [
    "x"
   ]
  },
  {
   "cell_type": "code",
   "execution_count": 8,
   "id": "664f6054",
   "metadata": {},
   "outputs": [],
   "source": [
    "x_train, x_test, y_train, y_test = train_test_split(x,y,test_size = 0.3,random_state=35)"
   ]
  },
  {
   "cell_type": "code",
   "execution_count": 9,
   "id": "f99ea098",
   "metadata": {},
   "outputs": [],
   "source": [
    "#Import svm model\n",
    "from sklearn.svm import SVC\n",
    "\n",
    "#create a svm model\n",
    "svm = SVC(random_state=0,C= 100, kernel= 'rbf')\n",
    "\n",
    "#Train the model using the training sets\n",
    "svm.fit(x_train, y_train)\n",
    "\n",
    "#Predict the response for test dataset\n",
    "ypred_svm=svm.predict(x_test)\n"
   ]
  },
  {
   "cell_type": "code",
   "execution_count": 10,
   "id": "e524b086",
   "metadata": {},
   "outputs": [],
   "source": [
    "ypred_svm=svm.predict(x_test)\n",
    "#ypred_svm=model.predict(x_test)\n",
    "filename = 'svm1.pkl'\n",
    "pickle.dump(svm, open(filename, 'wb'))"
   ]
  },
  {
   "cell_type": "code",
   "execution_count": 11,
   "id": "99de4eef",
   "metadata": {},
   "outputs": [],
   "source": [
    "r=classification_report(y_test,ypred_svm)"
   ]
  },
  {
   "cell_type": "code",
   "execution_count": 12,
   "id": "e89416a3",
   "metadata": {
    "scrolled": true
   },
   "outputs": [
    {
     "name": "stdout",
     "output_type": "stream",
     "text": [
      "              precision    recall  f1-score   support\n",
      "\n",
      "           0       0.85      0.90      0.87        49\n",
      "           1       0.87      0.80      0.84        41\n",
      "\n",
      "    accuracy                           0.86        90\n",
      "   macro avg       0.86      0.85      0.85        90\n",
      "weighted avg       0.86      0.86      0.85        90\n",
      "\n"
     ]
    }
   ],
   "source": [
    "print(r)"
   ]
  },
  {
   "cell_type": "code",
   "execution_count": 13,
   "id": "338a56b0",
   "metadata": {},
   "outputs": [
    {
     "name": "stdout",
     "output_type": "stream",
     "text": [
      "confusion matrix of svm \n",
      " [[44  5]\n",
      " [ 8 33]]\n"
     ]
    }
   ],
   "source": [
    " c_matrix = confusion_matrix(y_test, ypred_svm)\n",
    "print(\"confusion matrix of svm \\n\",c_matrix)"
   ]
  },
  {
   "cell_type": "code",
   "execution_count": 14,
   "id": "2bb49206",
   "metadata": {},
   "outputs": [
    {
     "data": {
      "text/plain": [
       "<sklearn.metrics._plot.roc_curve.RocCurveDisplay at 0x2019057ad90>"
      ]
     },
     "execution_count": 14,
     "metadata": {},
     "output_type": "execute_result"
    },
    {
     "data": {
      "image/png": "[encoded data removed]",
      "text/plain": [
       "<Figure size 432x288 with 1 Axes>"
      ]
     },
     "metadata": {
      "needs_background": "light"
     },
     "output_type": "display_data"
    }
   ],
   "source": [
    "#plot_roc_curve(model,x_test,y_test)\n",
    "plot_roc_curve(svm,x_test,y_test)"
   ]
  },
  {
   "cell_type": "code",
   "execution_count": 15,
   "id": "c5358552",
   "metadata": {},
   "outputs": [],
   "source": [
    "#import the logistic regression model\n",
    "from sklearn.linear_model import LogisticRegression\n",
    "\n",
    "#create the model\n",
    "lr = LogisticRegression(C=5)\n",
    "\n",
    "#train the model using training data set\n",
    "lr.fit(x_train,y_train)\n",
    "\n",
    "#predict the response for the test data\n",
    "ypred_lr=lr.predict(x_test)\n"
   ]
  },
  {
   "cell_type": "code",
   "execution_count": 16,
   "id": "db16d19e",
   "metadata": {},
   "outputs": [
    {
     "ename": "NameError",
     "evalue": "name 'acc' is not defined",
     "output_type": "error",
     "traceback": [
      "\u001b[1;31m---------------------------------------------------------------------------\u001b[0m",
      "\u001b[1;31mNameError\u001b[0m                                 Traceback (most recent call last)",
      "\u001b[1;32m~\\AppData\\Local\\Temp/ipykernel_1700/1315550512.py\u001b[0m in \u001b[0;36m<module>\u001b[1;34m\u001b[0m\n\u001b[1;32m----> 1\u001b[1;33m \u001b[0mprint\u001b[0m\u001b[1;33m(\u001b[0m\u001b[1;34m\"Test Accuracy {:.2f}%\"\u001b[0m\u001b[1;33m.\u001b[0m\u001b[0mformat\u001b[0m\u001b[1;33m(\u001b[0m\u001b[0macc\u001b[0m\u001b[1;33m)\u001b[0m\u001b[1;33m)\u001b[0m\u001b[1;33m\u001b[0m\u001b[1;33m\u001b[0m\u001b[0m\n\u001b[0m\u001b[0;32m      2\u001b[0m \u001b[0mfilename\u001b[0m \u001b[1;33m=\u001b[0m \u001b[1;34m'logisticRegression.pkl'\u001b[0m\u001b[1;33m\u001b[0m\u001b[1;33m\u001b[0m\u001b[0m\n\u001b[0;32m      3\u001b[0m \u001b[0mpickle\u001b[0m\u001b[1;33m.\u001b[0m\u001b[0mdump\u001b[0m\u001b[1;33m(\u001b[0m\u001b[0mlr\u001b[0m\u001b[1;33m,\u001b[0m \u001b[0mopen\u001b[0m\u001b[1;33m(\u001b[0m\u001b[0mfilename\u001b[0m\u001b[1;33m,\u001b[0m \u001b[1;34m'wb'\u001b[0m\u001b[1;33m)\u001b[0m\u001b[1;33m)\u001b[0m\u001b[1;33m\u001b[0m\u001b[1;33m\u001b[0m\u001b[0m\n\u001b[0;32m      4\u001b[0m \u001b[0mypred_lr\u001b[0m\u001b[1;33m=\u001b[0m\u001b[0mlr\u001b[0m\u001b[1;33m.\u001b[0m\u001b[0mpredict\u001b[0m\u001b[1;33m(\u001b[0m\u001b[0mx_test\u001b[0m\u001b[1;33m)\u001b[0m\u001b[1;33m\u001b[0m\u001b[1;33m\u001b[0m\u001b[0m\n\u001b[0;32m      5\u001b[0m \u001b[0mr\u001b[0m\u001b[1;33m=\u001b[0m\u001b[0mclassification_report\u001b[0m\u001b[1;33m(\u001b[0m\u001b[0my_test\u001b[0m\u001b[1;33m,\u001b[0m\u001b[0mypred_lr\u001b[0m\u001b[1;33m)\u001b[0m\u001b[1;33m\u001b[0m\u001b[1;33m\u001b[0m\u001b[0m\n",
      "\u001b[1;31mNameError\u001b[0m: name 'acc' is not defined"
     ]
    }
   ],
   "source": [
    "\n",
    "print(\"Test Accuracy {:.2f}%\".format(acc))\n",
    "filename = 'logisticRegression.pkl'\n",
    "pickle.dump(lr, open(filename, 'wb'))\n",
    "ypred_lr=lr.predict(x_test)\n",
    "r=classification_report(y_test,ypred_lr)\n",
    "c_matrix_lr=confusion_matrix(y_test, ypred_lr)\n",
    "print(r)\n",
    "print(\"confusion matrix of logistic regression\\n\",c_matrix_lr)"
   ]
  },
  {
   "cell_type": "code",
   "execution_count": null,
   "id": "6140c7a7",
   "metadata": {
    "scrolled": true
   },
   "outputs": [],
   "source": [
    "plot_roc_curve(lr,x_test,y_test)"
   ]
  },
  {
   "cell_type": "code",
   "execution_count": null,
   "id": "5b98755b",
   "metadata": {},
   "outputs": [],
   "source": [
    "#import the Bernoulli Naive Bayes model\n",
    "from sklearn.naive_bayes import BernoulliNB\n",
    "\n",
    "#create the model\n",
    "nb = BernoulliNB()\n",
    "\n",
    "#train the model\n",
    "nb.fit(x_train, y_train)\n",
    "\n",
    "\n",
    "#predict the response for the test data\n",
    "ypred_nb=nb.predict(x_test)\n"
   ]
  },
  {
   "cell_type": "code",
   "execution_count": null,
   "id": "d7821a9b",
   "metadata": {},
   "outputs": [],
   "source": [
    "print(nb.predict(x_train[2:3]))\n",
    "print('accuracy',nb.score(x_test,y_test)*100)\n",
    "filename = 'nb.pkl'\n",
    "pickle.dump(nb, open(filename, 'wb'))"
   ]
  },
  {
   "cell_type": "code",
   "execution_count": null,
   "id": "4568132c",
   "metadata": {},
   "outputs": [],
   "source": [
    "r=classification_report(y_test,ypred_nb)\n",
    "c_matrix_nb=confusion_matrix(y_test, ypred_nb)\n",
    "print(r)\n",
    "print(\"confusion matrix of naive bayes\\n\",c_matrix_nb)"
   ]
  },
  {
   "cell_type": "code",
   "execution_count": null,
   "id": "eb41edca",
   "metadata": {},
   "outputs": [],
   "source": [
    "plot_roc_curve(nb,x_test,y_test)"
   ]
  },
  {
   "cell_type": "code",
   "execution_count": null,
   "id": "8ac8227b",
   "metadata": {},
   "outputs": [],
   "source": [
    "#importing the Random Forest model\n",
    "from sklearn.ensemble import RandomForestClassifier\n",
    "\n",
    "#creating the model\n",
    "rf=RandomForestClassifier(n_estimators=1000,random_state=10)\n",
    "\n",
    "#training the model\n",
    "rf.fit(x_train,y_train)\n",
    "\n",
    "#predicting the response\n",
    "ypred_rf=rf.predict(x_test)\n"
   ]
  },
  {
   "cell_type": "code",
   "execution_count": null,
   "id": "b8a05e85",
   "metadata": {},
   "outputs": [],
   "source": [
    "\n",
    "acc=rf.score(x_test,y_test)*100\n",
    "print(\"Test Accuracy {:.2f}\".format(acc))\n",
    "filename = 'randomForest.pkl'\n",
    "pickle.dump(rf, open(filename, 'wb'))\n",
    "r=classification_report(y_test,ypred_rf)\n",
    "c_matrix_rf=confusion_matrix(y_test, ypred_rf)\n",
    "print(r)\n",
    "print(\"confusion matrix of random forest\\n\",c_matrix_lr)"
   ]
  },
  {
   "cell_type": "code",
   "execution_count": null,
   "id": "9ee670e8",
   "metadata": {},
   "outputs": [],
   "source": [
    "plot_roc_curve(rf,x_test,y_test)"
   ]
  },
  {
   "cell_type": "code",
   "execution_count": 1,
   "id": "084450bd",
   "metadata": {},
   "outputs": [
    {
     "ename": "NameError",
     "evalue": "name 'plt' is not defined",
     "output_type": "error",
     "traceback": [
      "\u001b[1;31m---------------------------------------------------------------------------\u001b[0m",
      "\u001b[1;31mNameError\u001b[0m                                 Traceback (most recent call last)",
      "\u001b[1;32m~\\AppData\\Local\\Temp/ipykernel_15024/3520335178.py\u001b[0m in \u001b[0;36m<module>\u001b[1;34m\u001b[0m\n\u001b[1;32m----> 1\u001b[1;33m \u001b[0mfig\u001b[0m \u001b[1;33m=\u001b[0m \u001b[0mplt\u001b[0m\u001b[1;33m.\u001b[0m\u001b[0mfigure\u001b[0m\u001b[1;33m(\u001b[0m\u001b[0mfigsize\u001b[0m\u001b[1;33m=\u001b[0m\u001b[1;33m(\u001b[0m\u001b[1;36m80\u001b[0m\u001b[1;33m,\u001b[0m\u001b[1;36m50\u001b[0m\u001b[1;33m)\u001b[0m\u001b[1;33m)\u001b[0m\u001b[1;33m\u001b[0m\u001b[1;33m\u001b[0m\u001b[0m\n\u001b[0m\u001b[0;32m      2\u001b[0m \u001b[0mfig\u001b[0m \u001b[1;33m=\u001b[0m \u001b[0mplot_roc_curve\u001b[0m\u001b[1;33m(\u001b[0m\u001b[0mrf\u001b[0m\u001b[1;33m,\u001b[0m\u001b[0mx_test\u001b[0m\u001b[1;33m,\u001b[0m\u001b[0my_test\u001b[0m\u001b[1;33m)\u001b[0m\u001b[1;33m\u001b[0m\u001b[1;33m\u001b[0m\u001b[0m\n\u001b[0;32m      3\u001b[0m \u001b[0mfig\u001b[0m\u001b[1;33m=\u001b[0m\u001b[0mplot_roc_curve\u001b[0m\u001b[1;33m(\u001b[0m\u001b[0mlr\u001b[0m\u001b[1;33m,\u001b[0m\u001b[0mx_test\u001b[0m\u001b[1;33m,\u001b[0m\u001b[0my_test\u001b[0m\u001b[1;33m,\u001b[0m\u001b[0max\u001b[0m\u001b[1;33m=\u001b[0m\u001b[0mfig\u001b[0m\u001b[1;33m.\u001b[0m\u001b[0max_\u001b[0m\u001b[1;33m)\u001b[0m\u001b[1;33m\u001b[0m\u001b[1;33m\u001b[0m\u001b[0m\n\u001b[0;32m      4\u001b[0m \u001b[0mfig\u001b[0m\u001b[1;33m=\u001b[0m\u001b[0mplot_roc_curve\u001b[0m\u001b[1;33m(\u001b[0m\u001b[0mnb\u001b[0m\u001b[1;33m,\u001b[0m\u001b[0mx_test\u001b[0m\u001b[1;33m,\u001b[0m\u001b[0my_test\u001b[0m\u001b[1;33m,\u001b[0m\u001b[0max\u001b[0m\u001b[1;33m=\u001b[0m\u001b[0mfig\u001b[0m\u001b[1;33m.\u001b[0m\u001b[0max_\u001b[0m\u001b[1;33m)\u001b[0m\u001b[1;33m\u001b[0m\u001b[1;33m\u001b[0m\u001b[0m\n\u001b[0;32m      5\u001b[0m \u001b[0mfig\u001b[0m \u001b[1;33m=\u001b[0m \u001b[0mplot_roc_curve\u001b[0m\u001b[1;33m(\u001b[0m \u001b[0msvm\u001b[0m\u001b[1;33m,\u001b[0m \u001b[0mx_test\u001b[0m\u001b[1;33m,\u001b[0m \u001b[0my_test\u001b[0m\u001b[1;33m,\u001b[0m \u001b[0max\u001b[0m \u001b[1;33m=\u001b[0m \u001b[0mfig\u001b[0m\u001b[1;33m.\u001b[0m\u001b[0max_\u001b[0m\u001b[1;33m)\u001b[0m\u001b[1;33m\u001b[0m\u001b[1;33m\u001b[0m\u001b[0m\n",
      "\u001b[1;31mNameError\u001b[0m: name 'plt' is not defined"
     ]
    }
   ],
   "source": [
    "fig = plt.figure(figsize=(80,50))\n",
    "fig = plot_roc_curve(rf,x_test,y_test)\n",
    "fig=plot_roc_curve(lr,x_test,y_test,ax=fig.ax_)\n",
    "fig=plot_roc_curve(nb,x_test,y_test,ax=fig.ax_)\n",
    "fig = plot_roc_curve( svm, x_test, y_test, ax = fig.ax_)\n",
    "fig.figure_.suptitle(\"ROC curve comparison\")\n",
    "plt.show()"
   ]
  },
  {
   "cell_type": "code",
   "execution_count": null,
   "id": "c5489ff1",
   "metadata": {},
   "outputs": [],
   "source": [
    "#import the module\n",
    "import pickle\n",
    "\n",
    "#svm Model\n",
    "filename = 'svm.pkl'\n",
    "pickle.dump(svm, open(filename, 'wb'))\n",
    "\n",
    "#logistic Regression model\n",
    "filename = 'logisticRegression.pkl'\n",
    "pickle.dump(lr, open(filename, 'wb'))\n",
    "\n",
    "#Bernoulli Naive Bayes model\n",
    "filename = 'nb.pkl'\n",
    "pickle.dump(nb, open(filename, 'wb'))\n",
    "\n",
    "#Random Forest Model\n",
    "filename = 'randomForest.pkl'\n",
    "pickle.dump(rf, open(filename, 'wb'))"
   ]
  },
  {
   "cell_type": "markdown",
   "id": "095aa04a",
   "metadata": {},
   "source": [
    "# hypertuning the models"
   ]
  },
  {
   "cell_type": "code",
   "execution_count": null,
   "id": "22875065",
   "metadata": {},
   "outputs": [],
   "source": [
    "from sklearn import svm\n",
    "model_params = {\n",
    "    'svm': {\n",
    "        'model': svm.SVC(gamma='auto'),\n",
    "        'params' : {\n",
    "            'C': [1,10,20,100],\n",
    "            'kernel': ['rbf','linear','poly','sigmoid']\n",
    "            \n",
    "        }  \n",
    "    },\n",
    "    \"\"\"'random_forest': {\n",
    "        'model': RandomForestClassifier(),\n",
    "        'params' : {\n",
    "            'n_estimators': [10,1000],\n",
    "            'random_state': [10,1]\n",
    "        }\n",
    "    },\"\"\"\n",
    "    'logistic_regression' : {\n",
    "        'model': LogisticRegression(solver='liblinear',multi_class='auto'),\n",
    "        'params': {\n",
    "            'C': [1,5,20]\n",
    "        },\n",
    "    \n",
    "    'Naive_Bayes' : {\n",
    "        'model': BernoulliNB(),\n",
    "        'params': {\n",
    "            'alpha': [0,1],\n",
    "            'binarize': [0.0,0.1,0.2,1.0],\n",
    "            'fit_prior': [True,False]\n",
    "        }\n",
    "    }\n",
    "    }\n",
    "}"
   ]
  },
  {
   "cell_type": "code",
   "execution_count": null,
   "id": "eca020fc",
   "metadata": {},
   "outputs": [],
   "source": [
    "from sklearn.model_selection import GridSearchCV\n",
    "scores = []\n",
    "for model_name, mp in model_params.items():\n",
    "    clf =  GridSearchCV(mp['model'], mp['params'], cv=7, return_train_score=False)\n",
    "    clf.fit(x_train,y_train)\n",
    "    scores.append({\n",
    "        'model': model_name,\n",
    "        'best_score': clf.best_score_,\n",
    "        'best_params': clf.best_params_\n",
    "    })\n",
    "df = pd.DataFrame(scores,columns=['model','best_score','best_params'])\n",
    "df"
   ]
  },
  {
   "cell_type": "code",
   "execution_count": null,
   "id": "c62975fa",
   "metadata": {},
   "outputs": [],
   "source": []
  }
 ],
 "metadata": {
  "kernelspec": {
   "display_name": "Python 3 (ipykernel)",
   "language": "python",
   "name": "python3"
  },
  "language_info": {
   "codemirror_mode": {
    "name": "ipython",
    "version": 3
   },
   "file_extension": ".py",
   "mimetype": "text/x-python",
   "name": "python",
   "nbconvert_exporter": "python",
   "pygments_lexer": "ipython3",
   "version": "3.9.7"
  }
 },
 "nbformat": 4,
 "nbformat_minor": 5
}
